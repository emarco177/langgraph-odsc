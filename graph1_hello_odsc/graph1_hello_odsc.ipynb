{
  "nbformat": 4,
  "nbformat_minor": 0,
  "metadata": {
    "colab": {
      "provenance": []
    },
    "kernelspec": {
      "name": "python3",
      "display_name": "Python 3"
    },
    "language_info": {
      "name": "python"
    }
  },
  "cells": [
    {
      "cell_type": "markdown",
      "source": [
        "# LangGraph Basics: Understanding Nodes, Edges, and State\n",
        "\n",
        "This Colab notebook introduces the fundamental concepts of LangGraph: nodes, edges, and state. We'll use a simple sequential graph to illustrate these concepts.\n",
        "\n"
      ],
      "metadata": {
        "id": "eVoqmJ4MH6xN"
      }
    },
    {
      "cell_type": "markdown",
      "source": [
        "## Setup\n",
        "\n",
        "First, let's install the required package:"
      ],
      "metadata": {
        "id": "otjLz-fmJQJg"
      }
    },
    {
      "cell_type": "code",
      "execution_count": null,
      "metadata": {
        "id": "LLM2Dj0lH3q2",
        "colab": {
          "base_uri": "https://localhost:8080/"
        },
        "outputId": "3c0288d6-abe6-453f-9583-4890dc1b6c8a"
      },
      "outputs": [
        {
          "output_type": "stream",
          "name": "stdout",
          "text": [
            "Collecting langgraph\n",
            "  Downloading langgraph-0.2.15-py3-none-any.whl.metadata (13 kB)\n",
            "Collecting langchain-core<0.3,>=0.2.27 (from langgraph)\n",
            "  Downloading langchain_core-0.2.37-py3-none-any.whl.metadata (6.2 kB)\n",
            "Collecting langgraph-checkpoint<2.0.0,>=1.0.2 (from langgraph)\n",
            "  Downloading langgraph_checkpoint-1.0.8-py3-none-any.whl.metadata (4.5 kB)\n",
            "Requirement already satisfied: PyYAML>=5.3 in /usr/local/lib/python3.10/dist-packages (from langchain-core<0.3,>=0.2.27->langgraph) (6.0.2)\n",
            "Collecting jsonpatch<2.0,>=1.33 (from langchain-core<0.3,>=0.2.27->langgraph)\n",
            "  Downloading jsonpatch-1.33-py2.py3-none-any.whl.metadata (3.0 kB)\n",
            "Collecting langsmith<0.2.0,>=0.1.75 (from langchain-core<0.3,>=0.2.27->langgraph)\n",
            "  Downloading langsmith-0.1.108-py3-none-any.whl.metadata (13 kB)\n",
            "Requirement already satisfied: packaging<25,>=23.2 in /usr/local/lib/python3.10/dist-packages (from langchain-core<0.3,>=0.2.27->langgraph) (24.1)\n",
            "Requirement already satisfied: pydantic<3,>=1 in /usr/local/lib/python3.10/dist-packages (from langchain-core<0.3,>=0.2.27->langgraph) (2.8.2)\n",
            "Collecting tenacity!=8.4.0,<9.0.0,>=8.1.0 (from langchain-core<0.3,>=0.2.27->langgraph)\n",
            "  Downloading tenacity-8.5.0-py3-none-any.whl.metadata (1.2 kB)\n",
            "Requirement already satisfied: typing-extensions>=4.7 in /usr/local/lib/python3.10/dist-packages (from langchain-core<0.3,>=0.2.27->langgraph) (4.12.2)\n",
            "Collecting jsonpointer>=1.9 (from jsonpatch<2.0,>=1.33->langchain-core<0.3,>=0.2.27->langgraph)\n",
            "  Downloading jsonpointer-3.0.0-py2.py3-none-any.whl.metadata (2.3 kB)\n",
            "Collecting httpx<1,>=0.23.0 (from langsmith<0.2.0,>=0.1.75->langchain-core<0.3,>=0.2.27->langgraph)\n",
            "  Downloading httpx-0.27.2-py3-none-any.whl.metadata (7.1 kB)\n",
            "Collecting orjson<4.0.0,>=3.9.14 (from langsmith<0.2.0,>=0.1.75->langchain-core<0.3,>=0.2.27->langgraph)\n",
            "  Downloading orjson-3.10.7-cp310-cp310-manylinux_2_17_x86_64.manylinux2014_x86_64.whl.metadata (50 kB)\n",
            "\u001b[2K     \u001b[90m━━━━━━━━━━━━━━━━━━━━━━━━━━━━━━━━━━━━━━━━\u001b[0m \u001b[32m50.4/50.4 kB\u001b[0m \u001b[31m1.0 MB/s\u001b[0m eta \u001b[36m0:00:00\u001b[0m\n",
            "\u001b[?25hRequirement already satisfied: requests<3,>=2 in /usr/local/lib/python3.10/dist-packages (from langsmith<0.2.0,>=0.1.75->langchain-core<0.3,>=0.2.27->langgraph) (2.32.3)\n",
            "Requirement already satisfied: annotated-types>=0.4.0 in /usr/local/lib/python3.10/dist-packages (from pydantic<3,>=1->langchain-core<0.3,>=0.2.27->langgraph) (0.7.0)\n",
            "Requirement already satisfied: pydantic-core==2.20.1 in /usr/local/lib/python3.10/dist-packages (from pydantic<3,>=1->langchain-core<0.3,>=0.2.27->langgraph) (2.20.1)\n",
            "Requirement already satisfied: anyio in /usr/local/lib/python3.10/dist-packages (from httpx<1,>=0.23.0->langsmith<0.2.0,>=0.1.75->langchain-core<0.3,>=0.2.27->langgraph) (3.7.1)\n",
            "Requirement already satisfied: certifi in /usr/local/lib/python3.10/dist-packages (from httpx<1,>=0.23.0->langsmith<0.2.0,>=0.1.75->langchain-core<0.3,>=0.2.27->langgraph) (2024.7.4)\n",
            "Collecting httpcore==1.* (from httpx<1,>=0.23.0->langsmith<0.2.0,>=0.1.75->langchain-core<0.3,>=0.2.27->langgraph)\n",
            "  Downloading httpcore-1.0.5-py3-none-any.whl.metadata (20 kB)\n",
            "Requirement already satisfied: idna in /usr/local/lib/python3.10/dist-packages (from httpx<1,>=0.23.0->langsmith<0.2.0,>=0.1.75->langchain-core<0.3,>=0.2.27->langgraph) (3.8)\n",
            "Requirement already satisfied: sniffio in /usr/local/lib/python3.10/dist-packages (from httpx<1,>=0.23.0->langsmith<0.2.0,>=0.1.75->langchain-core<0.3,>=0.2.27->langgraph) (1.3.1)\n",
            "Collecting h11<0.15,>=0.13 (from httpcore==1.*->httpx<1,>=0.23.0->langsmith<0.2.0,>=0.1.75->langchain-core<0.3,>=0.2.27->langgraph)\n",
            "  Downloading h11-0.14.0-py3-none-any.whl.metadata (8.2 kB)\n",
            "Requirement already satisfied: charset-normalizer<4,>=2 in /usr/local/lib/python3.10/dist-packages (from requests<3,>=2->langsmith<0.2.0,>=0.1.75->langchain-core<0.3,>=0.2.27->langgraph) (3.3.2)\n",
            "Requirement already satisfied: urllib3<3,>=1.21.1 in /usr/local/lib/python3.10/dist-packages (from requests<3,>=2->langsmith<0.2.0,>=0.1.75->langchain-core<0.3,>=0.2.27->langgraph) (2.0.7)\n",
            "Requirement already satisfied: exceptiongroup in /usr/local/lib/python3.10/dist-packages (from anyio->httpx<1,>=0.23.0->langsmith<0.2.0,>=0.1.75->langchain-core<0.3,>=0.2.27->langgraph) (1.2.2)\n",
            "Downloading langgraph-0.2.15-py3-none-any.whl (90 kB)\n",
            "\u001b[2K   \u001b[90m━━━━━━━━━━━━━━━━━━━━━━━━━━━━━━━━━━━━━━━━\u001b[0m \u001b[32m90.9/90.9 kB\u001b[0m \u001b[31m3.3 MB/s\u001b[0m eta \u001b[36m0:00:00\u001b[0m\n",
            "\u001b[?25hDownloading langchain_core-0.2.37-py3-none-any.whl (396 kB)\n",
            "\u001b[2K   \u001b[90m━━━━━━━━━━━━━━━━━━━━━━━━━━━━━━━━━━━━━━━━\u001b[0m \u001b[32m396.2/396.2 kB\u001b[0m \u001b[31m7.0 MB/s\u001b[0m eta \u001b[36m0:00:00\u001b[0m\n",
            "\u001b[?25hDownloading langgraph_checkpoint-1.0.8-py3-none-any.whl (15 kB)\n",
            "Downloading jsonpatch-1.33-py2.py3-none-any.whl (12 kB)\n",
            "Downloading langsmith-0.1.108-py3-none-any.whl (150 kB)\n",
            "\u001b[2K   \u001b[90m━━━━━━━━━━━━━━━━━━━━━━━━━━━━━━━━━━━━━━━━\u001b[0m \u001b[32m150.7/150.7 kB\u001b[0m \u001b[31m9.5 MB/s\u001b[0m eta \u001b[36m0:00:00\u001b[0m\n",
            "\u001b[?25hDownloading tenacity-8.5.0-py3-none-any.whl (28 kB)\n",
            "Downloading httpx-0.27.2-py3-none-any.whl (76 kB)\n",
            "\u001b[2K   \u001b[90m━━━━━━━━━━━━━━━━━━━━━━━━━━━━━━━━━━━━━━━━\u001b[0m \u001b[32m76.4/76.4 kB\u001b[0m \u001b[31m5.4 MB/s\u001b[0m eta \u001b[36m0:00:00\u001b[0m\n",
            "\u001b[?25hDownloading httpcore-1.0.5-py3-none-any.whl (77 kB)\n",
            "\u001b[2K   \u001b[90m━━━━━━━━━━━━━━━━━━━━━━━━━━━━━━━━━━━━━━━━\u001b[0m \u001b[32m77.9/77.9 kB\u001b[0m \u001b[31m5.7 MB/s\u001b[0m eta \u001b[36m0:00:00\u001b[0m\n",
            "\u001b[?25hDownloading jsonpointer-3.0.0-py2.py3-none-any.whl (7.6 kB)\n",
            "Downloading orjson-3.10.7-cp310-cp310-manylinux_2_17_x86_64.manylinux2014_x86_64.whl (141 kB)\n",
            "\u001b[2K   \u001b[90m━━━━━━━━━━━━━━━━━━━━━━━━━━━━━━━━━━━━━━━━\u001b[0m \u001b[32m141.9/141.9 kB\u001b[0m \u001b[31m9.7 MB/s\u001b[0m eta \u001b[36m0:00:00\u001b[0m\n",
            "\u001b[?25hDownloading h11-0.14.0-py3-none-any.whl (58 kB)\n",
            "\u001b[2K   \u001b[90m━━━━━━━━━━━━━━━━━━━━━━━━━━━━━━━━━━━━━━━━\u001b[0m \u001b[32m58.3/58.3 kB\u001b[0m \u001b[31m3.5 MB/s\u001b[0m eta \u001b[36m0:00:00\u001b[0m\n",
            "\u001b[?25hInstalling collected packages: tenacity, orjson, jsonpointer, h11, jsonpatch, httpcore, httpx, langsmith, langchain-core, langgraph-checkpoint, langgraph\n",
            "  Attempting uninstall: tenacity\n",
            "    Found existing installation: tenacity 9.0.0\n",
            "    Uninstalling tenacity-9.0.0:\n",
            "      Successfully uninstalled tenacity-9.0.0\n",
            "Successfully installed h11-0.14.0 httpcore-1.0.5 httpx-0.27.2 jsonpatch-1.33 jsonpointer-3.0.0 langchain-core-0.2.37 langgraph-0.2.15 langgraph-checkpoint-1.0.8 langsmith-0.1.108 orjson-3.10.7 tenacity-8.5.0\n"
          ]
        }
      ],
      "source": [
        "!pip install langgraph"
      ]
    },
    {
      "cell_type": "markdown",
      "source": [
        "Now, let's import the necessary modules:\n"
      ],
      "metadata": {
        "id": "nsTPVxwMICTN"
      }
    },
    {
      "cell_type": "code",
      "source": [
        "import datetime\n",
        "import operator\n",
        "import time\n",
        "from typing import Annotated, Any, Dict, List\n",
        "from typing_extensions import TypedDict\n",
        "from langgraph.graph import StateGraph, START, END"
      ],
      "metadata": {
        "id": "09QKE1FVIGCh"
      },
      "execution_count": null,
      "outputs": []
    },
    {
      "cell_type": "markdown",
      "source": [
        "## Understanding State in LangGraph\n",
        "\n",
        "In LangGraph, the state represents the data that flows through the graph. It's defined using a TypedDict:\n"
      ],
      "metadata": {
        "id": "3BMXD5oqIJKK"
      }
    },
    {
      "cell_type": "code",
      "source": [
        "class State(TypedDict):\n",
        "    aggregate: Annotated[list, operator.add]\n"
      ],
      "metadata": {
        "id": "9EOY1AtrIINY"
      },
      "execution_count": null,
      "outputs": []
    },
    {
      "cell_type": "markdown",
      "source": [
        "Here's what this means:\n",
        "- `State` is a TypedDict, which allows us to specify the structure of our state.\n",
        "- `aggregate` is a key in our state, which will hold a list.\n",
        "- `Annotated[list, operator.add]` specifies that when the state is updated, lists should be combined using the `add` operation (which for lists means concatenation).\n",
        "\n",
        "The state is passed between nodes and can be modified by each node in the graph.\n",
        "\n",
        "## Understanding Nodes in LangGraph\n",
        "\n",
        "Nodes in LangGraph represent the processing steps in your workflow. Each node is a function that takes the current state as input and returns updates to the state.\n",
        "\n",
        "Let's look at one of our node functions:\n"
      ],
      "metadata": {
        "id": "AR6zYOr6IO4O"
      }
    },
    {
      "cell_type": "code",
      "source": [
        "def hello(state: State) -> Dict[str, Any]:\n",
        "    print(\"#### hello enter,\")\n",
        "    time.sleep(1)\n",
        "    return {\"aggregate\": [\"hello\"]}\n",
        "\n",
        "\n",
        "def welcome(state: State) -> Dict[str, Any]:\n",
        "    print(\"#### welcome enter,\")\n",
        "    time.sleep(1)\n",
        "    return {\"aggregate\": [\"welcome\"]}\n",
        "\n",
        "\n",
        "def to(state: State) -> Dict[str, Any]:\n",
        "    print(\"#### to enter,\")\n",
        "    time.sleep(1)\n",
        "    return {\"aggregate\": [\"to\"]}\n",
        "\n",
        "\n",
        "def odsc(state: State) -> Dict[str, Any]:\n",
        "    print(\"#### odsc enter,\")\n",
        "    time.sleep(1)\n",
        "    return {\"aggregate\": [\"ODSC\"]}\n",
        "\n"
      ],
      "metadata": {
        "id": "00XoW_FjIOmv"
      },
      "execution_count": null,
      "outputs": []
    },
    {
      "cell_type": "markdown",
      "source": [
        "Key points about nodes:\n",
        "1. They take the current `State` as an input.\n",
        "2. Prints a message when it's entered\n",
        "3. They return a dictionary with updates to the state.\n",
        "3. In this example, each node adds its name to the `aggregate` list in the state.\n",
        "4. The `time.sleep(1)` is just to simulate some work being done.\n",
        "\n",
        "\n",
        "\n",
        "\n",
        "## Building the Graph\n",
        "Let's start by creating our StateGraph:\n"
      ],
      "metadata": {
        "id": "9-1lkTGsIam7"
      }
    },
    {
      "cell_type": "code",
      "source": [
        "builder = StateGraph(State)\n"
      ],
      "metadata": {
        "id": "NZ0AbS38KS2A"
      },
      "execution_count": null,
      "outputs": []
    },
    {
      "cell_type": "markdown",
      "source": [
        "### Adding Nodes\n",
        "\n",
        "Next, we add nodes to our graph:\n"
      ],
      "metadata": {
        "id": "kCaYWsC7KXkj"
      }
    },
    {
      "cell_type": "code",
      "source": [
        "builder.add_node(\"a\", hello)\n",
        "builder.add_node(\"b\", welcome)\n",
        "builder.add_node(\"c\", to)\n",
        "builder.add_node(\"d\", odsc)\n"
      ],
      "metadata": {
        "id": "BoehNZnrKX9_"
      },
      "execution_count": null,
      "outputs": []
    },
    {
      "cell_type": "markdown",
      "source": [
        "Each `add_node` call does two things:\n",
        "1. It assigns a unique identifier to the node (e.g., \"a\", \"b\", \"c\", \"d\").\n",
        "2. It associates a function with that node (e.g., `hello`, `welcome`, `to`, `odsc`).\n",
        "\n",
        "These functions are the ones we defined earlier, each representing a step in our workflow.\n",
        "\n",
        "### Adding Edges\n",
        "\n",
        "After adding nodes, we define how they connect to each other using edges:\n",
        "\n"
      ],
      "metadata": {
        "id": "Y0z7IDEiKlBE"
      }
    },
    {
      "cell_type": "code",
      "source": [
        "builder.add_edge(START, \"a\")\n",
        "builder.add_edge(\"a\", \"b\")\n",
        "builder.add_edge(\"b\", \"c\")\n",
        "builder.add_edge(\"c\", \"d\")\n",
        "builder.add_edge(\"d\", END)"
      ],
      "metadata": {
        "id": "Q7-BlTf-Kmcu"
      },
      "execution_count": null,
      "outputs": []
    },
    {
      "cell_type": "markdown",
      "source": [
        "Each `add_edge` call creates a directed connection between two nodes:\n",
        "- `START` and `END` are special nodes representing the beginning and end of the graph.\n",
        "- The first `add_edge` connects the start of the graph to node \"a\".\n",
        "- The subsequent calls connect \"a\" to \"b\", \"b\" to \"c\", and so on.\n",
        "- The last `add_edge` connects node \"d\" to the end of the graph.\n",
        "\n",
        "This sequence of edges defines the flow of execution in our graph.\n",
        "\n",
        "## Compiling the Graph\n",
        "\n",
        "Finally, we compile the graph:"
      ],
      "metadata": {
        "id": "JXkcpk3oKwt8"
      }
    },
    {
      "cell_type": "code",
      "source": [
        "graph = builder.compile()\n"
      ],
      "metadata": {
        "id": "JlDE2e1SKzFI"
      },
      "execution_count": null,
      "outputs": []
    },
    {
      "cell_type": "markdown",
      "source": [
        "This step finalizes the graph structure. After compilation:\n",
        "- The graph is ready for execution.\n",
        "- No further modifications can be made to the graph structure.\n",
        "- We can now use methods like `invoke` or `stream` to run the graph."
      ],
      "metadata": {
        "id": "_FsbSpQkK3Vn"
      }
    },
    {
      "cell_type": "markdown",
      "source": [],
      "metadata": {
        "id": "gSVvC5RRK3NS"
      }
    },
    {
      "cell_type": "code",
      "source": [
        "res = graph.invoke({\"aggregate\": []}, {\"configurable\": {\"thread_id\": \"foo\"}})\n",
        "print(f\"{res=}\")"
      ],
      "metadata": {
        "id": "jNEC6InhK2lH",
        "colab": {
          "base_uri": "https://localhost:8080/"
        },
        "outputId": "0005d749-b378-4cd8-d2f3-e189a8657609"
      },
      "execution_count": null,
      "outputs": [
        {
          "output_type": "stream",
          "name": "stdout",
          "text": [
            "#### hello enter,\n",
            "#### welcome enter,\n",
            "#### to enter,\n",
            "#### odsc enter,\n",
            "res={'aggregate': ['hello', 'welcome', 'to', 'ODSC']}\n"
          ]
        }
      ]
    },
    {
      "cell_type": "code",
      "source": [
        "for state in graph.stream({\"aggregate\": []}, {\"configurable\": {\"thread_id\": \"foo\"}}, stream_mode=\"values\"):\n",
        "      print(f\"{state=}\")"
      ],
      "metadata": {
        "id": "f1g62gf-LY_0",
        "outputId": "44163962-233c-4f15-ba4b-2cefc79628fe",
        "colab": {
          "base_uri": "https://localhost:8080/"
        }
      },
      "execution_count": null,
      "outputs": [
        {
          "output_type": "stream",
          "name": "stdout",
          "text": [
            "state={'aggregate': []}\n",
            "#### hello enter,\n",
            "state={'aggregate': ['hello']}\n",
            "#### welcome enter,\n",
            "state={'aggregate': ['hello', 'welcome']}\n",
            "#### to enter,\n",
            "state={'aggregate': ['hello', 'welcome', 'to']}\n",
            "#### odsc enter,\n",
            "state={'aggregate': ['hello', 'welcome', 'to', 'ODSC']}\n"
          ]
        }
      ]
    }
  ]
}