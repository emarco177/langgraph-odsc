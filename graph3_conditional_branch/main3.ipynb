{
  "nbformat": 4,
  "nbformat_minor": 0,
  "metadata": {
    "colab": {
      "provenance": []
    },
    "kernelspec": {
      "name": "python3",
      "display_name": "Python 3"
    },
    "language_info": {
      "name": "python"
    }
  },
  "cells": [
    {
      "cell_type": "markdown",
      "source": [
        "# Understanding Conditional Edges in LangGraph\n",
        "\n",
        "This Colab notebook demonstrates the concept of conditional edges in LangGraph, a powerful feature for creating dynamic, branching workflows in your graph-based applications.\n"
      ],
      "metadata": {
        "id": "Zt_PKsnWCpO8"
      }
    },
    {
      "cell_type": "markdown",
      "source": [
        "![graph.png](data:image/png;base64,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)"
      ],
      "metadata": {
        "id": "0Y63OyAVDAkS"
      }
    },
    {
      "cell_type": "markdown",
      "source": [
        "## Setup\n",
        "\n",
        "First, let's install the required packages:\n"
      ],
      "metadata": {
        "id": "6MwwBSLcE2Oi"
      }
    },
    {
      "cell_type": "code",
      "source": [
        "\n",
        "pip install langgraph\n"
      ],
      "metadata": {
        "id": "-0dkjB6YCG-9"
      },
      "execution_count": null,
      "outputs": []
    },
    {
      "cell_type": "markdown",
      "source": [
        "Now, let's import the necessary modules:\n"
      ],
      "metadata": {
        "id": "ErEWom90E4h1"
      }
    },
    {
      "cell_type": "code",
      "source": [
        "import datetime\n",
        "import operator\n",
        "import time\n",
        "from typing import Annotated, Any, Dict, List\n",
        "from typing_extensions import TypedDict\n",
        "from langgraph.graph import StateGraph, START, END"
      ],
      "metadata": {
        "id": "gzLEzd9UCih5"
      },
      "execution_count": null,
      "outputs": []
    },
    {
      "cell_type": "markdown",
      "source": [
        "## Defining the State\n",
        "\n",
        "In LangGraph, we use a `State` class to define the structure of our graph's state:\n"
      ],
      "metadata": {
        "id": "zmun8KhAFCTT"
      }
    },
    {
      "cell_type": "code",
      "source": [
        "class State(TypedDict):\n",
        "    aggregate: Annotated[list, operator.add]\n"
      ],
      "metadata": {
        "id": "B1_Nlp2mClAE"
      },
      "execution_count": null,
      "outputs": []
    },
    {
      "cell_type": "markdown",
      "source": [
        "\n",
        "Here, we're using `Annotated[list, operator.add]` to specify that the `aggregate` field is a list that should be combined using the `add` operation when updates occur."
      ],
      "metadata": {
        "id": "kSNgcO34FEJo"
      }
    },
    {
      "cell_type": "markdown",
      "source": [
        "## Creating Node Functions\n",
        "\n",
        "Let's define some simple node functions that will be part of our graph:\n"
      ],
      "metadata": {
        "id": "zpJ4dOoyFGWS"
      }
    },
    {
      "cell_type": "code",
      "execution_count": null,
      "metadata": {
        "id": "m52bgH4FB-FE"
      },
      "outputs": [],
      "source": [
        "\n",
        "def node_a(state: State) -> Dict[str, Any]:\n",
        "    print(\"#### node_a enter,\")\n",
        "    time.sleep(1)\n",
        "    return {\"aggregate\": [\"node_a\"]}\n",
        "\n",
        "\n",
        "def node_b(state: State) -> Dict[str, Any]:\n",
        "    print(\"#### node_b enter,\")\n",
        "    time.sleep(1)\n",
        "    return {\"aggregate\": [\"node_b\"]}\n",
        "\n",
        "\n",
        "def node_c(state: State) -> Dict[str, Any]:\n",
        "    print(\"#### node_c enter,\")\n",
        "    time.sleep(1)\n",
        "    return {\"aggregate\": [\"node_c\"]}\n",
        "\n",
        "\n",
        "def node_d(state: State) -> Dict[str, Any]:\n",
        "    print(\"#### node_d enter,\")\n",
        "    time.sleep(1)\n",
        "    return {\"aggregate\": [\"node_d\"]}\n",
        "\n",
        "\n",
        "def node_e(state: State) -> Dict[str, Any]:\n",
        "    print(\"#### node_e enter,\")\n",
        "    time.sleep(1)\n",
        "    return {\"aggregate\": [\"node_e\"]}\n"
      ]
    },
    {
      "cell_type": "markdown",
      "source": [
        "Each node function simulates some work by sleeping for a second and then returns a dictionary with an \"aggregate\" key containing the node's name.\n"
      ],
      "metadata": {
        "id": "NbKEM0izFJAS"
      }
    },
    {
      "cell_type": "markdown",
      "source": [
        "## Defining the Conditional Routing Function\n",
        "\n",
        "The heart of conditional edges is the routing function. This function determines which path(s) the graph should take based on the current state:\n"
      ],
      "metadata": {
        "id": "EIeQL7wuFTFn"
      }
    },
    {
      "cell_type": "code",
      "source": [
        "def route(state: State) -> List[str]:\n",
        "    if datetime.datetime.utcnow().second % 2 == 0:\n",
        "        return [\"node_b\"]\n",
        "    return [\"node_c\", \"node_d\"]\n",
        "\n"
      ],
      "metadata": {
        "id": "jdgQSOOZFRQX"
      },
      "execution_count": null,
      "outputs": []
    },
    {
      "cell_type": "code",
      "source": [
        "builder = StateGraph(State)\n",
        "intermediates = [\"node_b\", \"node_c\", \"node_d\"]\n",
        "builder.add_node(\"node_a\", node_a)\n",
        "builder.add_node(\"node_b\", node_b)\n",
        "builder.add_node(\"node_c\", node_c)\n",
        "builder.add_node(\"node_d\", node_d)\n",
        "builder.add_node(\"node_e\", node_e)\n",
        "\n",
        "builder.add_edge(START, \"node_a\")\n",
        "builder.add_edge(\"node_e\", END)\n",
        "builder.add_conditional_edges(\"node_a\", route, intermediates)\n",
        "for node in intermediates:\n",
        "    builder.add_edge(node, \"node_e\")\n",
        "graph = builder.compile()\n"
      ],
      "metadata": {
        "id": "YMZ_Zf5eCzHv"
      },
      "execution_count": null,
      "outputs": []
    },
    {
      "cell_type": "code",
      "source": [
        "res = graph.invoke({\"aggregate\": []}, {\"configurable\": {\"thread_id\": \"foo\"}})\n",
        "print(f\"{res=}\")"
      ],
      "metadata": {
        "id": "NW0UZu8PFmai"
      },
      "execution_count": null,
      "outputs": []
    },
    {
      "cell_type": "markdown",
      "source": [
        "This will execute the graph and print the final state. The path taken will depend on whether the current second is even or odd when the `route` function is called.\n"
      ],
      "metadata": {
        "id": "eWNUySvWFx2_"
      }
    }
  ]
}